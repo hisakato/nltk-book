{
 "cells": [
  {
   "cell_type": "raw",
   "metadata": {},
   "source": [
    "Natural Language Processing with Python – Analyzing Text with the Natural Language Toolkit\n",
    "Steven Bird, Ewan Klein, and Edward Loper\n",
    "http://www.nltk.org/book/\n",
    "Chapter 5."
   ]
  },
  {
   "cell_type": "code",
   "execution_count": 1,
   "metadata": {},
   "outputs": [],
   "source": [
    "%matplotlib inline"
   ]
  },
  {
   "cell_type": "code",
   "execution_count": 2,
   "metadata": {},
   "outputs": [],
   "source": [
    "import nltk"
   ]
  },
  {
   "cell_type": "raw",
   "metadata": {},
   "source": [
    "5. Categorizing and Tagging Words"
   ]
  },
  {
   "cell_type": "raw",
   "metadata": {},
   "source": [
    "5.3 Mapping Words to Properties Using Python Dictionaries"
   ]
  },
  {
   "cell_type": "raw",
   "metadata": {},
   "source": [
    "5.3.1 Indexing Lists vs Dictionaries"
   ]
  },
  {
   "cell_type": "raw",
   "metadata": {},
   "source": [
    "5.3.2 Dictionaries in Python"
   ]
  },
  {
   "cell_type": "code",
   "execution_count": 3,
   "metadata": {},
   "outputs": [],
   "source": [
    "pos = {}"
   ]
  },
  {
   "cell_type": "code",
   "execution_count": 4,
   "metadata": {},
   "outputs": [
    {
     "data": {
      "text/plain": [
       "{}"
      ]
     },
     "execution_count": 4,
     "metadata": {},
     "output_type": "execute_result"
    }
   ],
   "source": [
    "pos\n",
    "# {}"
   ]
  },
  {
   "cell_type": "code",
   "execution_count": 5,
   "metadata": {},
   "outputs": [],
   "source": [
    "pos['colorless'] = 'ADJ'"
   ]
  },
  {
   "cell_type": "code",
   "execution_count": 6,
   "metadata": {},
   "outputs": [
    {
     "data": {
      "text/plain": [
       "{'colorless': 'ADJ'}"
      ]
     },
     "execution_count": 6,
     "metadata": {},
     "output_type": "execute_result"
    }
   ],
   "source": [
    "pos\n",
    "# {'colorless': 'ADJ'}"
   ]
  },
  {
   "cell_type": "code",
   "execution_count": 7,
   "metadata": {},
   "outputs": [],
   "source": [
    "pos['ideas'] = 'N'"
   ]
  },
  {
   "cell_type": "code",
   "execution_count": 8,
   "metadata": {},
   "outputs": [],
   "source": [
    "pos['sleep'] = 'V'"
   ]
  },
  {
   "cell_type": "code",
   "execution_count": 9,
   "metadata": {},
   "outputs": [],
   "source": [
    "pos['furiously'] = 'ADV'"
   ]
  },
  {
   "cell_type": "code",
   "execution_count": 11,
   "metadata": {},
   "outputs": [
    {
     "data": {
      "text/plain": [
       "{'colorless': 'ADJ', 'furiously': 'ADV', 'ideas': 'N', 'sleep': 'V'}"
      ]
     },
     "execution_count": 11,
     "metadata": {},
     "output_type": "execute_result"
    }
   ],
   "source": [
    "pos\n",
    "# {'furiously': 'ADV', 'ideas': 'N', 'colorless': 'ADJ', 'sleep': 'V'}"
   ]
  },
  {
   "cell_type": "code",
   "execution_count": 12,
   "metadata": {},
   "outputs": [
    {
     "data": {
      "text/plain": [
       "'N'"
      ]
     },
     "execution_count": 12,
     "metadata": {},
     "output_type": "execute_result"
    }
   ],
   "source": [
    "pos['ideas']\n",
    "# 'N'"
   ]
  },
  {
   "cell_type": "code",
   "execution_count": 13,
   "metadata": {},
   "outputs": [
    {
     "data": {
      "text/plain": [
       "'ADJ'"
      ]
     },
     "execution_count": 13,
     "metadata": {},
     "output_type": "execute_result"
    }
   ],
   "source": [
    "pos['colorless']\n",
    "# 'ADJ'"
   ]
  },
  {
   "cell_type": "code",
   "execution_count": 14,
   "metadata": {},
   "outputs": [
    {
     "ename": "KeyError",
     "evalue": "'green'",
     "output_type": "error",
     "traceback": [
      "\u001b[0;31m---------------------------------------------------------------------------\u001b[0m",
      "\u001b[0;31mKeyError\u001b[0m                                  Traceback (most recent call last)",
      "\u001b[0;32m<ipython-input-14-384f0be61944>\u001b[0m in \u001b[0;36m<module>\u001b[0;34m()\u001b[0m\n\u001b[0;32m----> 1\u001b[0;31m \u001b[0mpos\u001b[0m\u001b[0;34m[\u001b[0m\u001b[0;34m'green'\u001b[0m\u001b[0;34m]\u001b[0m\u001b[0;34m\u001b[0m\u001b[0m\n\u001b[0m\u001b[1;32m      2\u001b[0m \u001b[0;31m# Traceback (most recent call last):\u001b[0m\u001b[0;34m\u001b[0m\u001b[0;34m\u001b[0m\u001b[0m\n\u001b[1;32m      3\u001b[0m \u001b[0;31m#  File \"<stdin>\", line 1, in ?\u001b[0m\u001b[0;34m\u001b[0m\u001b[0;34m\u001b[0m\u001b[0m\n\u001b[1;32m      4\u001b[0m \u001b[0;31m# KeyError: 'green'\u001b[0m\u001b[0;34m\u001b[0m\u001b[0;34m\u001b[0m\u001b[0m\n",
      "\u001b[0;31mKeyError\u001b[0m: 'green'"
     ]
    }
   ],
   "source": [
    "pos['green']\n",
    "# Traceback (most recent call last):\n",
    "#  File \"<stdin>\", line 1, in ?\n",
    "# KeyError: 'green'"
   ]
  },
  {
   "cell_type": "code",
   "execution_count": 15,
   "metadata": {},
   "outputs": [
    {
     "data": {
      "text/plain": [
       "['colorless', 'ideas', 'sleep', 'furiously']"
      ]
     },
     "execution_count": 15,
     "metadata": {},
     "output_type": "execute_result"
    }
   ],
   "source": [
    "list(pos)\n",
    "# ['ideas', 'furiously', 'colorless', 'sleep']"
   ]
  },
  {
   "cell_type": "code",
   "execution_count": 16,
   "metadata": {},
   "outputs": [
    {
     "data": {
      "text/plain": [
       "['colorless', 'furiously', 'ideas', 'sleep']"
      ]
     },
     "execution_count": 16,
     "metadata": {},
     "output_type": "execute_result"
    }
   ],
   "source": [
    "sorted(pos)\n",
    "# ['colorless', 'furiously', 'ideas', 'sleep']"
   ]
  },
  {
   "cell_type": "code",
   "execution_count": 17,
   "metadata": {},
   "outputs": [
    {
     "data": {
      "text/plain": [
       "['colorless', 'ideas']"
      ]
     },
     "execution_count": 17,
     "metadata": {},
     "output_type": "execute_result"
    }
   ],
   "source": [
    "[w for w in pos if w.endswith('s')]\n",
    "# ['colorless', 'ideas']"
   ]
  },
  {
   "cell_type": "code",
   "execution_count": 18,
   "metadata": {},
   "outputs": [
    {
     "name": "stdout",
     "output_type": "stream",
     "text": [
      "colorless: ADJ\n",
      "furiously: ADV\n",
      "ideas: N\n",
      "sleep: V\n"
     ]
    }
   ],
   "source": [
    "for word in sorted(pos):\n",
    "    print(word + \":\", pos[word])\n",
    "\n",
    "# colorless: ADJ\n",
    "# furiously: ADV\n",
    "# sleep: V\n",
    "# ideas: N"
   ]
  },
  {
   "cell_type": "code",
   "execution_count": 19,
   "metadata": {},
   "outputs": [
    {
     "data": {
      "text/plain": [
       "['colorless', 'ideas', 'sleep', 'furiously']"
      ]
     },
     "execution_count": 19,
     "metadata": {},
     "output_type": "execute_result"
    }
   ],
   "source": [
    "list(pos.keys())\n",
    "# ['colorless', 'furiously', 'sleep', 'ideas']"
   ]
  },
  {
   "cell_type": "code",
   "execution_count": 20,
   "metadata": {},
   "outputs": [
    {
     "data": {
      "text/plain": [
       "['ADJ', 'N', 'V', 'ADV']"
      ]
     },
     "execution_count": 20,
     "metadata": {},
     "output_type": "execute_result"
    }
   ],
   "source": [
    "list(pos.values())\n",
    "# ['ADJ', 'ADV', 'V', 'N']"
   ]
  },
  {
   "cell_type": "code",
   "execution_count": 21,
   "metadata": {},
   "outputs": [
    {
     "data": {
      "text/plain": [
       "[('colorless', 'ADJ'), ('ideas', 'N'), ('sleep', 'V'), ('furiously', 'ADV')]"
      ]
     },
     "execution_count": 21,
     "metadata": {},
     "output_type": "execute_result"
    }
   ],
   "source": [
    "list(pos.items())\n",
    "# [('colorless', 'ADJ'), ('furiously', 'ADV'), ('sleep', 'V'), ('ideas', 'N')]"
   ]
  },
  {
   "cell_type": "code",
   "execution_count": 23,
   "metadata": {},
   "outputs": [
    {
     "name": "stdout",
     "output_type": "stream",
     "text": [
      "colorless: ADJ\n",
      "furiously: ADV\n",
      "ideas: N\n",
      "sleep: V\n"
     ]
    }
   ],
   "source": [
    "for key, val in sorted(pos.items()):\n",
    "    print(key + \":\", val)\n",
    "\n",
    "# colorless: ADJ\n",
    "# furiously: ADV\n",
    "# ideas: N\n",
    "# sleep: V"
   ]
  },
  {
   "cell_type": "code",
   "execution_count": 24,
   "metadata": {},
   "outputs": [],
   "source": [
    "pos['sleep'] = 'V'"
   ]
  },
  {
   "cell_type": "code",
   "execution_count": 25,
   "metadata": {},
   "outputs": [
    {
     "data": {
      "text/plain": [
       "'V'"
      ]
     },
     "execution_count": 25,
     "metadata": {},
     "output_type": "execute_result"
    }
   ],
   "source": [
    "pos['sleep']\n",
    "# 'V'"
   ]
  },
  {
   "cell_type": "code",
   "execution_count": 26,
   "metadata": {},
   "outputs": [],
   "source": [
    "pos['sleep'] = 'N'"
   ]
  },
  {
   "cell_type": "code",
   "execution_count": 27,
   "metadata": {},
   "outputs": [
    {
     "data": {
      "text/plain": [
       "'N'"
      ]
     },
     "execution_count": 27,
     "metadata": {},
     "output_type": "execute_result"
    }
   ],
   "source": [
    "pos['sleep']\n",
    "# 'N'"
   ]
  },
  {
   "cell_type": "raw",
   "metadata": {},
   "source": [
    "5.3.3 Defining Dictionaries"
   ]
  },
  {
   "cell_type": "code",
   "execution_count": 30,
   "metadata": {},
   "outputs": [],
   "source": [
    "pos = {'colorless': 'ADJ', 'ideas': 'N', 'sleep': 'V', 'furiously': 'ADV'}"
   ]
  },
  {
   "cell_type": "code",
   "execution_count": 31,
   "metadata": {},
   "outputs": [
    {
     "data": {
      "text/plain": [
       "{'colorless': 'ADJ', 'furiously': 'ADV', 'ideas': 'N', 'sleep': 'V'}"
      ]
     },
     "execution_count": 31,
     "metadata": {},
     "output_type": "execute_result"
    }
   ],
   "source": [
    "pos"
   ]
  },
  {
   "cell_type": "code",
   "execution_count": 32,
   "metadata": {},
   "outputs": [],
   "source": [
    "pos = dict(colorless='ADJ', ideas='N', sleep='V', furiously='ADV')"
   ]
  },
  {
   "cell_type": "code",
   "execution_count": 33,
   "metadata": {},
   "outputs": [
    {
     "data": {
      "text/plain": [
       "{'colorless': 'ADJ', 'furiously': 'ADV', 'ideas': 'N', 'sleep': 'V'}"
      ]
     },
     "execution_count": 33,
     "metadata": {},
     "output_type": "execute_result"
    }
   ],
   "source": [
    "pos"
   ]
  },
  {
   "cell_type": "code",
   "execution_count": 34,
   "metadata": {},
   "outputs": [
    {
     "ename": "TypeError",
     "evalue": "unhashable type: 'list'",
     "output_type": "error",
     "traceback": [
      "\u001b[0;31m---------------------------------------------------------------------------\u001b[0m",
      "\u001b[0;31mTypeError\u001b[0m                                 Traceback (most recent call last)",
      "\u001b[0;32m<ipython-input-34-e86b7fe8e05b>\u001b[0m in \u001b[0;36m<module>\u001b[0;34m()\u001b[0m\n\u001b[0;32m----> 1\u001b[0;31m \u001b[0mpos\u001b[0m \u001b[0;34m=\u001b[0m \u001b[0;34m{\u001b[0m\u001b[0;34m[\u001b[0m\u001b[0;34m'ideas'\u001b[0m\u001b[0;34m,\u001b[0m \u001b[0;34m'blogs'\u001b[0m\u001b[0;34m,\u001b[0m \u001b[0;34m'adventures'\u001b[0m\u001b[0;34m]\u001b[0m\u001b[0;34m:\u001b[0m \u001b[0;34m'N'\u001b[0m\u001b[0;34m}\u001b[0m\u001b[0;34m\u001b[0m\u001b[0m\n\u001b[0m\u001b[1;32m      2\u001b[0m \u001b[0;31m# Traceback (most recent call last):\u001b[0m\u001b[0;34m\u001b[0m\u001b[0;34m\u001b[0m\u001b[0m\n\u001b[1;32m      3\u001b[0m \u001b[0;31m#  File \"<stdin>\", line 1, in <module>\u001b[0m\u001b[0;34m\u001b[0m\u001b[0;34m\u001b[0m\u001b[0m\n\u001b[1;32m      4\u001b[0m \u001b[0;31m# TypeError: list objects are unhashable\u001b[0m\u001b[0;34m\u001b[0m\u001b[0;34m\u001b[0m\u001b[0m\n",
      "\u001b[0;31mTypeError\u001b[0m: unhashable type: 'list'"
     ]
    }
   ],
   "source": [
    "pos = {['ideas', 'blogs', 'adventures']: 'N'}\n",
    "# Traceback (most recent call last):\n",
    "#  File \"<stdin>\", line 1, in <module>\n",
    "# TypeError: list objects are unhashable"
   ]
  },
  {
   "cell_type": "raw",
   "metadata": {},
   "source": [
    "5.3.4 Default Dictionaries"
   ]
  },
  {
   "cell_type": "code",
   "execution_count": 35,
   "metadata": {},
   "outputs": [],
   "source": [
    "from collections import defaultdict"
   ]
  },
  {
   "cell_type": "code",
   "execution_count": 36,
   "metadata": {},
   "outputs": [],
   "source": [
    "frequency = defaultdict(int)"
   ]
  },
  {
   "cell_type": "code",
   "execution_count": 37,
   "metadata": {},
   "outputs": [],
   "source": [
    "frequency['colorless'] = 4"
   ]
  },
  {
   "cell_type": "code",
   "execution_count": 38,
   "metadata": {},
   "outputs": [
    {
     "data": {
      "text/plain": [
       "0"
      ]
     },
     "execution_count": 38,
     "metadata": {},
     "output_type": "execute_result"
    }
   ],
   "source": [
    "frequency['ideas']\n",
    "# 0"
   ]
  },
  {
   "cell_type": "code",
   "execution_count": 39,
   "metadata": {},
   "outputs": [],
   "source": [
    "pos = defaultdict(list)"
   ]
  },
  {
   "cell_type": "code",
   "execution_count": 40,
   "metadata": {},
   "outputs": [],
   "source": [
    "pos['sleep'] = ['NOUN', 'VERB']"
   ]
  },
  {
   "cell_type": "code",
   "execution_count": 41,
   "metadata": {},
   "outputs": [
    {
     "data": {
      "text/plain": [
       "[]"
      ]
     },
     "execution_count": 41,
     "metadata": {},
     "output_type": "execute_result"
    }
   ],
   "source": [
    "pos['ideas']\n",
    "# []"
   ]
  },
  {
   "cell_type": "code",
   "execution_count": 42,
   "metadata": {},
   "outputs": [],
   "source": [
    "pos = defaultdict(lambda: 'NOUN')"
   ]
  },
  {
   "cell_type": "code",
   "execution_count": 43,
   "metadata": {},
   "outputs": [],
   "source": [
    "pos['colorless'] = 'ADJ'"
   ]
  },
  {
   "cell_type": "code",
   "execution_count": 44,
   "metadata": {},
   "outputs": [
    {
     "data": {
      "text/plain": [
       "'NOUN'"
      ]
     },
     "execution_count": 44,
     "metadata": {},
     "output_type": "execute_result"
    }
   ],
   "source": [
    "pos['blog']\n",
    "# 'NOUN'"
   ]
  },
  {
   "cell_type": "code",
   "execution_count": 45,
   "metadata": {},
   "outputs": [
    {
     "data": {
      "text/plain": [
       "[('colorless', 'ADJ'), ('blog', 'NOUN')]"
      ]
     },
     "execution_count": 45,
     "metadata": {},
     "output_type": "execute_result"
    }
   ],
   "source": [
    "list(pos.items())\n",
    "# [('blog', 'NOUN'), ('colorless', 'ADJ')] # [_automatically-added]"
   ]
  },
  {
   "cell_type": "code",
   "execution_count": 46,
   "metadata": {},
   "outputs": [],
   "source": [
    "f = lambda: 'NOUN'"
   ]
  },
  {
   "cell_type": "code",
   "execution_count": 48,
   "metadata": {},
   "outputs": [
    {
     "data": {
      "text/plain": [
       "'NOUN'"
      ]
     },
     "execution_count": 48,
     "metadata": {},
     "output_type": "execute_result"
    }
   ],
   "source": [
    "f()\n",
    "# 'NOUN'"
   ]
  },
  {
   "cell_type": "code",
   "execution_count": 49,
   "metadata": {},
   "outputs": [],
   "source": [
    "def g():\n",
    "    return 'NOUN'"
   ]
  },
  {
   "cell_type": "code",
   "execution_count": 50,
   "metadata": {},
   "outputs": [
    {
     "data": {
      "text/plain": [
       "'NOUN'"
      ]
     },
     "execution_count": 50,
     "metadata": {},
     "output_type": "execute_result"
    }
   ],
   "source": [
    "g()\n",
    "# 'NOUN'"
   ]
  },
  {
   "cell_type": "code",
   "execution_count": 51,
   "metadata": {},
   "outputs": [],
   "source": [
    "alice = nltk.corpus.gutenberg.words('carroll-alice.txt')"
   ]
  },
  {
   "cell_type": "code",
   "execution_count": 52,
   "metadata": {},
   "outputs": [],
   "source": [
    "vocab = nltk.FreqDist(alice)"
   ]
  },
  {
   "cell_type": "code",
   "execution_count": 53,
   "metadata": {},
   "outputs": [],
   "source": [
    "v1000 = [word for (word, _) in vocab.most_common(1000)]"
   ]
  },
  {
   "cell_type": "code",
   "execution_count": 54,
   "metadata": {},
   "outputs": [],
   "source": [
    "mapping = defaultdict(lambda: 'UNK')"
   ]
  },
  {
   "cell_type": "code",
   "execution_count": 55,
   "metadata": {},
   "outputs": [],
   "source": [
    "for v in v1000:\n",
    "    mapping[v] = v"
   ]
  },
  {
   "cell_type": "code",
   "execution_count": 56,
   "metadata": {},
   "outputs": [],
   "source": [
    "alice2 = [mapping[v] for v in alice]"
   ]
  },
  {
   "cell_type": "code",
   "execution_count": 57,
   "metadata": {
    "collapsed": true
   },
   "outputs": [
    {
     "data": {
      "text/plain": [
       "['[',\n",
       " 'Alice',\n",
       " \"'\",\n",
       " 's',\n",
       " 'Adventures',\n",
       " 'in',\n",
       " 'Wonderland',\n",
       " 'by',\n",
       " 'UNK',\n",
       " 'UNK',\n",
       " 'UNK',\n",
       " 'UNK',\n",
       " 'CHAPTER',\n",
       " 'I',\n",
       " '.',\n",
       " 'Down',\n",
       " 'the',\n",
       " 'Rabbit',\n",
       " '-',\n",
       " 'UNK',\n",
       " 'Alice',\n",
       " 'was',\n",
       " 'beginning',\n",
       " 'to',\n",
       " 'get',\n",
       " 'very',\n",
       " 'tired',\n",
       " 'of',\n",
       " 'sitting',\n",
       " 'by',\n",
       " 'her',\n",
       " 'sister',\n",
       " 'on',\n",
       " 'the',\n",
       " 'bank',\n",
       " ',',\n",
       " 'and',\n",
       " 'of',\n",
       " 'having',\n",
       " 'nothing',\n",
       " 'to',\n",
       " 'do',\n",
       " ':',\n",
       " 'once',\n",
       " 'or',\n",
       " 'twice',\n",
       " 'she',\n",
       " 'had',\n",
       " 'peeped',\n",
       " 'into',\n",
       " 'the',\n",
       " 'book',\n",
       " 'her',\n",
       " 'sister',\n",
       " 'was',\n",
       " 'reading',\n",
       " ',',\n",
       " 'but',\n",
       " 'it',\n",
       " 'had',\n",
       " 'no',\n",
       " 'pictures',\n",
       " 'or',\n",
       " 'UNK',\n",
       " 'in',\n",
       " 'it',\n",
       " ',',\n",
       " \"'\",\n",
       " 'and',\n",
       " 'what',\n",
       " 'is',\n",
       " 'the',\n",
       " 'use',\n",
       " 'of',\n",
       " 'a',\n",
       " 'book',\n",
       " \",'\",\n",
       " 'thought',\n",
       " 'Alice',\n",
       " \"'\",\n",
       " 'without',\n",
       " 'pictures',\n",
       " 'or',\n",
       " 'conversation',\n",
       " \"?'\",\n",
       " 'So',\n",
       " 'she',\n",
       " 'was',\n",
       " 'considering',\n",
       " 'in',\n",
       " 'her',\n",
       " 'own',\n",
       " 'mind',\n",
       " '(',\n",
       " 'as',\n",
       " 'well',\n",
       " 'as',\n",
       " 'she',\n",
       " 'could',\n",
       " ',']"
      ]
     },
     "execution_count": 57,
     "metadata": {},
     "output_type": "execute_result"
    }
   ],
   "source": [
    "alice2[:100]\n",
    "# ['UNK', 'Alice', \"'\", 's', 'UNK', 'in', 'UNK', 'by', 'UNK', 'UNK', 'UNK',\n",
    "# 'UNK', 'CHAPTER', 'I', '.', 'UNK', 'the', 'Rabbit', '-', 'UNK', 'Alice',\n",
    "# 'was', 'beginning', 'to', 'get', 'very', 'tired', 'of', 'sitting', 'by',\n",
    "# 'her', 'sister', 'on', 'the', 'UNK', ',', 'and', 'of', 'having', 'nothing',\n",
    "# 'to', 'do', ':', 'once', 'or', 'twice', 'she', 'had', 'UNK', 'into', 'the',\n",
    "# 'book', 'her', 'sister', 'was', 'UNK', ',', 'but', 'it', 'had', 'no',\n",
    "# 'pictures', 'or', 'UNK', 'in', 'it', ',', \"'\", 'and', 'what', 'is', 'the',\n",
    "# 'use', 'of', 'a', 'book', \",'\", 'thought', 'Alice', \"'\", 'without',\n",
    "# 'pictures', 'or', 'conversation', \"?'\" ...]"
   ]
  },
  {
   "cell_type": "code",
   "execution_count": 58,
   "metadata": {},
   "outputs": [
    {
     "data": {
      "text/plain": [
       "1001"
      ]
     },
     "execution_count": 58,
     "metadata": {},
     "output_type": "execute_result"
    }
   ],
   "source": [
    "len(set(alice2))\n",
    "# 1001"
   ]
  },
  {
   "cell_type": "raw",
   "metadata": {},
   "source": [
    "5.3.5 Incrementally Updating a Dictionary"
   ]
  },
  {
   "cell_type": "code",
   "execution_count": 59,
   "metadata": {},
   "outputs": [],
   "source": [
    "from collections import defaultdict"
   ]
  },
  {
   "cell_type": "code",
   "execution_count": 60,
   "metadata": {},
   "outputs": [],
   "source": [
    "counts = defaultdict(int)"
   ]
  },
  {
   "cell_type": "code",
   "execution_count": 61,
   "metadata": {},
   "outputs": [],
   "source": [
    "from nltk.corpus import brown"
   ]
  },
  {
   "cell_type": "code",
   "execution_count": 62,
   "metadata": {},
   "outputs": [],
   "source": [
    "for (word, tag) in brown.tagged_words(categories='news', tagset='universal'):\n",
    "    counts[tag] += 1"
   ]
  },
  {
   "cell_type": "code",
   "execution_count": 63,
   "metadata": {},
   "outputs": [
    {
     "data": {
      "text/plain": [
       "30654"
      ]
     },
     "execution_count": 63,
     "metadata": {},
     "output_type": "execute_result"
    }
   ],
   "source": [
    "counts['NOUN']\n",
    "# 30640"
   ]
  },
  {
   "cell_type": "code",
   "execution_count": 64,
   "metadata": {},
   "outputs": [
    {
     "data": {
      "text/plain": [
       "['.',\n",
       " 'ADJ',\n",
       " 'ADP',\n",
       " 'ADV',\n",
       " 'CONJ',\n",
       " 'DET',\n",
       " 'NOUN',\n",
       " 'NUM',\n",
       " 'PRON',\n",
       " 'PRT',\n",
       " 'VERB',\n",
       " 'X']"
      ]
     },
     "execution_count": 64,
     "metadata": {},
     "output_type": "execute_result"
    }
   ],
   "source": [
    "sorted(counts)\n",
    "# ['ADJ', 'PRT', 'ADV', 'X', 'CONJ', 'PRON', 'VERB', '.', 'NUM', 'NOUN', 'ADP', 'DET']"
   ]
  },
  {
   "cell_type": "code",
   "execution_count": 65,
   "metadata": {},
   "outputs": [],
   "source": [
    "from operator import itemgetter"
   ]
  },
  {
   "cell_type": "code",
   "execution_count": 66,
   "metadata": {},
   "outputs": [
    {
     "data": {
      "text/plain": [
       "[('NOUN', 30654),\n",
       " ('VERB', 14399),\n",
       " ('ADP', 12355),\n",
       " ('.', 11928),\n",
       " ('DET', 11389),\n",
       " ('ADJ', 6706),\n",
       " ('ADV', 3349),\n",
       " ('CONJ', 2717),\n",
       " ('PRON', 2535),\n",
       " ('PRT', 2264),\n",
       " ('NUM', 2166),\n",
       " ('X', 92)]"
      ]
     },
     "execution_count": 66,
     "metadata": {},
     "output_type": "execute_result"
    }
   ],
   "source": [
    "sorted(counts.items(), key=itemgetter(1), reverse=True)\n",
    "# [('NOUN', 30640), ('VERB', 14399), ('ADP', 12355), ('.', 11928), ...]"
   ]
  },
  {
   "cell_type": "code",
   "execution_count": 67,
   "metadata": {},
   "outputs": [
    {
     "data": {
      "text/plain": [
       "['NOUN',\n",
       " 'VERB',\n",
       " 'ADP',\n",
       " '.',\n",
       " 'DET',\n",
       " 'ADJ',\n",
       " 'ADV',\n",
       " 'CONJ',\n",
       " 'PRON',\n",
       " 'PRT',\n",
       " 'NUM',\n",
       " 'X']"
      ]
     },
     "execution_count": 67,
     "metadata": {},
     "output_type": "execute_result"
    }
   ],
   "source": [
    "[t for t, c in sorted(counts.items(), key=itemgetter(1), reverse=True)]\n",
    "# ['NOUN', 'VERB', 'ADP', '.', 'DET', 'ADJ', 'ADV', 'CONJ', 'PRON', 'PRT', 'NUM', 'X']"
   ]
  },
  {
   "cell_type": "code",
   "execution_count": 68,
   "metadata": {},
   "outputs": [],
   "source": [
    "pair = ('NP', 8336)"
   ]
  },
  {
   "cell_type": "code",
   "execution_count": 69,
   "metadata": {},
   "outputs": [
    {
     "data": {
      "text/plain": [
       "8336"
      ]
     },
     "execution_count": 69,
     "metadata": {},
     "output_type": "execute_result"
    }
   ],
   "source": [
    "pair[1]\n",
    "# 8336"
   ]
  },
  {
   "cell_type": "code",
   "execution_count": 70,
   "metadata": {},
   "outputs": [
    {
     "data": {
      "text/plain": [
       "8336"
      ]
     },
     "execution_count": 70,
     "metadata": {},
     "output_type": "execute_result"
    }
   ],
   "source": [
    "itemgetter(1)(pair)\n",
    "# 8336"
   ]
  },
  {
   "cell_type": "code",
   "execution_count": 71,
   "metadata": {},
   "outputs": [],
   "source": [
    "last_letters = defaultdict(list)"
   ]
  },
  {
   "cell_type": "code",
   "execution_count": 72,
   "metadata": {},
   "outputs": [],
   "source": [
    "words = nltk.corpus.words.words('en')"
   ]
  },
  {
   "cell_type": "code",
   "execution_count": 73,
   "metadata": {},
   "outputs": [],
   "source": [
    "for word in words:\n",
    "    key = word[-2:]\n",
    "    last_letters[key].append(word)"
   ]
  },
  {
   "cell_type": "code",
   "execution_count": 74,
   "metadata": {
    "collapsed": true
   },
   "outputs": [
    {
     "data": {
      "text/plain": [
       "['abactinally',\n",
       " 'abandonedly',\n",
       " 'abasedly',\n",
       " 'abashedly',\n",
       " 'abashlessly',\n",
       " 'abbreviately',\n",
       " 'abdominally',\n",
       " 'abhorrently',\n",
       " 'abidingly',\n",
       " 'abiogenetically',\n",
       " 'abiologically',\n",
       " 'abjectly',\n",
       " 'ableptically',\n",
       " 'ably',\n",
       " 'abnormally',\n",
       " 'abominably',\n",
       " 'aborally',\n",
       " 'aboriginally',\n",
       " 'abortively',\n",
       " 'aboundingly',\n",
       " 'abridgedly',\n",
       " 'abruptedly',\n",
       " 'abruptly',\n",
       " 'abscondedly',\n",
       " 'absently',\n",
       " 'absentmindedly',\n",
       " 'absolutely',\n",
       " 'absolutistically',\n",
       " 'absorbedly',\n",
       " 'absorbingly',\n",
       " 'absorptively',\n",
       " 'abstemiously',\n",
       " 'abstinently',\n",
       " 'abstractedly',\n",
       " 'abstractively',\n",
       " 'abstractly',\n",
       " 'abstrusely',\n",
       " 'absurdly',\n",
       " 'abundantly',\n",
       " 'abusedly',\n",
       " 'abusefully',\n",
       " 'abusively',\n",
       " 'abysmally',\n",
       " 'academically',\n",
       " 'acceleratedly',\n",
       " 'accentually',\n",
       " 'acceptably',\n",
       " 'acceptedly',\n",
       " 'accessarily',\n",
       " 'accessibly',\n",
       " 'accessively',\n",
       " 'accessorily',\n",
       " 'accidentally',\n",
       " 'accidently',\n",
       " 'accommodately',\n",
       " 'accommodatingly',\n",
       " 'accordantly',\n",
       " 'accordingly',\n",
       " 'accountably',\n",
       " 'accumulatively',\n",
       " 'accurately',\n",
       " 'accursedly',\n",
       " 'accusably',\n",
       " 'accusatively',\n",
       " 'accusatorially',\n",
       " 'accusingly',\n",
       " 'accustomedly',\n",
       " 'acervately',\n",
       " 'acetometrically',\n",
       " 'achingly',\n",
       " 'achromatically',\n",
       " 'acicularly',\n",
       " 'acidimetrically',\n",
       " 'acidly',\n",
       " 'acknowledgedly',\n",
       " 'acoustically',\n",
       " 'acquiescently',\n",
       " 'acquiescingly',\n",
       " 'acquisitively',\n",
       " 'acridly',\n",
       " 'acrimoniously',\n",
       " 'acrobatically',\n",
       " 'acrocephaly',\n",
       " 'acrogenously',\n",
       " 'acrologically',\n",
       " 'acromegaly',\n",
       " 'acronically',\n",
       " 'acropetally',\n",
       " 'acrostically',\n",
       " 'actinally',\n",
       " 'actinically',\n",
       " 'actinoelectrically',\n",
       " 'actionably',\n",
       " 'actively',\n",
       " 'actually',\n",
       " 'actuarially',\n",
       " 'acutely',\n",
       " 'Adamically',\n",
       " 'adaptationally',\n",
       " 'adaptively',\n",
       " 'addedly',\n",
       " 'additionally',\n",
       " 'additively',\n",
       " 'addleheadedly',\n",
       " 'adequately',\n",
       " 'adherently',\n",
       " 'adhesively',\n",
       " 'adiabatically',\n",
       " 'adjacently',\n",
       " 'adjectivally',\n",
       " 'adjectively',\n",
       " 'adjoinedly',\n",
       " 'adjunctively',\n",
       " 'adjunctly',\n",
       " 'adjustably',\n",
       " 'administratively',\n",
       " 'admirably',\n",
       " 'admiredly',\n",
       " 'admiringly',\n",
       " 'admissibly',\n",
       " 'admittedly',\n",
       " 'admonishingly',\n",
       " 'admonitively',\n",
       " 'admonitorily',\n",
       " 'adnominally',\n",
       " 'adolescently',\n",
       " 'adoptedly',\n",
       " 'adoptively',\n",
       " 'adorably',\n",
       " 'adorally',\n",
       " 'adoringly',\n",
       " 'adorningly',\n",
       " 'adradially',\n",
       " 'adroitly',\n",
       " 'adscititiously',\n",
       " 'adulterately',\n",
       " 'adulterously',\n",
       " 'adumbratively',\n",
       " 'advancingly',\n",
       " 'advantageously',\n",
       " 'adventitiously',\n",
       " 'adventuresomely',\n",
       " 'adventurously',\n",
       " 'adverbially',\n",
       " 'adversatively',\n",
       " 'adversely',\n",
       " 'advertently',\n",
       " 'advisably',\n",
       " 'advisedly',\n",
       " 'advisorily',\n",
       " 'aerially',\n",
       " 'aerobically',\n",
       " 'aerobiologically',\n",
       " 'aerobiotically',\n",
       " 'aerogenically',\n",
       " 'aeronautically',\n",
       " 'aerophilately',\n",
       " 'aeroscopically',\n",
       " 'aesthetically',\n",
       " 'aetiotropically',\n",
       " 'affably',\n",
       " 'affectedly',\n",
       " 'affectingly',\n",
       " 'affectionally',\n",
       " 'affectionately',\n",
       " 'affectively',\n",
       " 'affinely',\n",
       " 'affinitatively',\n",
       " 'affirmably',\n",
       " 'affirmatively',\n",
       " 'affirmingly',\n",
       " 'afflictingly',\n",
       " 'afflictively',\n",
       " 'affluently',\n",
       " 'affrightedly',\n",
       " 'affrightfully',\n",
       " 'affrightingly',\n",
       " 'affrontedly',\n",
       " 'affrontingly',\n",
       " 'agamically',\n",
       " 'agamogenetically',\n",
       " 'agedly',\n",
       " 'aggravatingly',\n",
       " 'aggregately',\n",
       " 'aggressively',\n",
       " 'aggrievedly',\n",
       " 'agilely',\n",
       " 'agitatedly',\n",
       " 'agnatically',\n",
       " 'agnostically',\n",
       " 'agonistically',\n",
       " 'agonizedly',\n",
       " 'agonizingly',\n",
       " 'agrarianly',\n",
       " 'agreeably',\n",
       " 'agreeingly',\n",
       " 'agriculturally',\n",
       " 'agrobiologically',\n",
       " 'agrogeologically',\n",
       " 'agrologically',\n",
       " 'aguishly',\n",
       " 'aimfully',\n",
       " 'aimlessly',\n",
       " 'airily',\n",
       " 'airtightly',\n",
       " 'alarmedly',\n",
       " 'alarmingly',\n",
       " 'alchemically',\n",
       " 'alcoholically',\n",
       " 'aldermanly',\n",
       " 'alertly',\n",
       " 'algebraically',\n",
       " 'algometrically',\n",
       " 'alimentally',\n",
       " 'alimentatively',\n",
       " 'alkalimetrically',\n",
       " 'allegedly',\n",
       " 'allegorically',\n",
       " 'allenarly',\n",
       " 'alleviatingly',\n",
       " 'alliably',\n",
       " 'allicholly',\n",
       " 'alliteratively',\n",
       " 'allochirally',\n",
       " 'allogenically',\n",
       " 'allopathetically',\n",
       " 'allopathically',\n",
       " 'allopatrically',\n",
       " 'allothigenetically',\n",
       " 'allotropically',\n",
       " 'allowably',\n",
       " 'allowedly',\n",
       " 'alluringly',\n",
       " 'allusively',\n",
       " 'Ally',\n",
       " 'ally',\n",
       " 'almightily',\n",
       " 'alodially',\n",
       " 'alogically',\n",
       " 'aloofly',\n",
       " 'alphabetically',\n",
       " 'alpinely',\n",
       " 'alterably',\n",
       " 'alternately',\n",
       " 'alternatingly',\n",
       " 'alternatively',\n",
       " 'altimetrically',\n",
       " 'altruistically',\n",
       " 'aly',\n",
       " 'amateurishly',\n",
       " 'amatively',\n",
       " 'amatorially',\n",
       " 'amazedly',\n",
       " 'amazingly',\n",
       " 'ambagiously',\n",
       " 'ambassadorially',\n",
       " 'ambidextrously',\n",
       " 'ambiguously',\n",
       " 'ambilateralaterally',\n",
       " 'ambitionlessly',\n",
       " 'ambitiously',\n",
       " 'amblingly',\n",
       " 'ambrosially',\n",
       " 'amenably',\n",
       " 'Americanly',\n",
       " 'ametaboly',\n",
       " 'amethodically',\n",
       " 'amiably',\n",
       " 'amicably',\n",
       " 'amitotically',\n",
       " 'amorously',\n",
       " 'amorphously',\n",
       " 'amphibiously',\n",
       " 'amphibologically',\n",
       " 'amphiboly',\n",
       " 'amphigenously',\n",
       " 'amphimictically',\n",
       " 'amphistyly',\n",
       " 'amphitheatrically',\n",
       " 'amply',\n",
       " 'amusedly',\n",
       " 'amusingly',\n",
       " 'amusively',\n",
       " 'Anabaptistically',\n",
       " 'anacamptically',\n",
       " 'anachronically',\n",
       " 'anachronistically',\n",
       " 'anachronously',\n",
       " 'anacoluthically',\n",
       " 'Anacreontically',\n",
       " 'anacrustically',\n",
       " 'anaerobically',\n",
       " 'anaerobiotically',\n",
       " 'anaesthetically',\n",
       " 'anagogically',\n",
       " 'anagrammatically',\n",
       " 'anally',\n",
       " 'analogically',\n",
       " 'analogously',\n",
       " 'analytically',\n",
       " 'anamnestically',\n",
       " 'anapaestically',\n",
       " 'anarchically',\n",
       " 'anarthrously',\n",
       " 'anathematically',\n",
       " 'Anatoly',\n",
       " 'anatomically',\n",
       " 'ancestorially',\n",
       " 'ancestrally',\n",
       " 'anciently',\n",
       " 'anecdotically',\n",
       " 'anemographically',\n",
       " 'anemometrically',\n",
       " 'anemometrographically',\n",
       " 'anemophily',\n",
       " 'anencephaly',\n",
       " 'anerly',\n",
       " 'anesthetically',\n",
       " 'aneurismally',\n",
       " 'aneurysmally',\n",
       " 'angelically',\n",
       " 'angerly',\n",
       " 'angiomegaly',\n",
       " 'Anglicanly',\n",
       " 'angrily',\n",
       " 'anguishously',\n",
       " 'angularly',\n",
       " 'angulately',\n",
       " 'animally',\n",
       " 'animatedly',\n",
       " 'animately',\n",
       " 'animatingly',\n",
       " 'anisocotyly',\n",
       " 'anisophylly',\n",
       " 'anisotropically',\n",
       " 'anniversarily',\n",
       " 'annoyingly',\n",
       " 'annually',\n",
       " 'annularly',\n",
       " 'anodically',\n",
       " 'anomalistically',\n",
       " 'anomalously',\n",
       " 'anomaly',\n",
       " 'anonymously',\n",
       " 'anorthographically',\n",
       " 'answerably',\n",
       " 'answeringly',\n",
       " 'answerlessly',\n",
       " 'antagonistically',\n",
       " 'antarctically',\n",
       " 'antecedaneously',\n",
       " 'antecedently',\n",
       " 'antediluvially',\n",
       " 'anteriorly',\n",
       " 'anterolaterally',\n",
       " 'anteroposteriorly',\n",
       " 'anteroventrally',\n",
       " 'anthologically',\n",
       " 'anthropologically',\n",
       " 'anthropometrically',\n",
       " 'anthropomorphically',\n",
       " 'anthropomorphologically',\n",
       " 'anthropomorphously',\n",
       " 'anthropopathically',\n",
       " 'anthropophagously',\n",
       " 'antichristianly',\n",
       " 'antichronically',\n",
       " 'anticipatively',\n",
       " 'anticipatorily',\n",
       " 'anticly',\n",
       " 'anticonstitutionally',\n",
       " 'anticyclonically',\n",
       " 'antidotally',\n",
       " 'antidotically',\n",
       " 'antidromically',\n",
       " 'antimonarchically',\n",
       " 'antimonopoly',\n",
       " 'antipathetically',\n",
       " 'antiperistatically',\n",
       " 'antiphonally',\n",
       " 'antiphonically',\n",
       " 'antiphrastically',\n",
       " 'antiquarianly',\n",
       " 'antiquely',\n",
       " 'antirachitically',\n",
       " 'antiseptically',\n",
       " 'antisocialistically',\n",
       " 'antistrophically',\n",
       " 'antitheistically',\n",
       " 'antithetically',\n",
       " 'antitypically',\n",
       " 'antonomastically',\n",
       " 'antrorsely',\n",
       " 'anxiously',\n",
       " 'aoristically',\n",
       " 'apagogically',\n",
       " 'apathetically',\n",
       " 'aperiodically',\n",
       " 'apertly',\n",
       " 'apetaly',\n",
       " 'apheliotropically',\n",
       " 'aphetically',\n",
       " 'aphoristically',\n",
       " 'aphylly',\n",
       " 'apically',\n",
       " 'apishly',\n",
       " 'aplanatically',\n",
       " 'apocalyptically',\n",
       " 'apocryphally',\n",
       " 'apodictically',\n",
       " 'apogamically',\n",
       " 'apogamously',\n",
       " 'apogeotropically',\n",
       " 'apologetically',\n",
       " 'apometaboly',\n",
       " 'apoplectically',\n",
       " 'aposematically',\n",
       " 'apostatically',\n",
       " 'apostolically',\n",
       " 'apothegmatically',\n",
       " 'appallingly',\n",
       " 'apparently',\n",
       " 'appealingly',\n",
       " 'appeasably',\n",
       " 'appeasingly',\n",
       " 'appellatively',\n",
       " 'apperceptively',\n",
       " 'appetently',\n",
       " 'appetizingly',\n",
       " 'applaudably',\n",
       " 'applaudingly',\n",
       " 'applausively',\n",
       " 'appliably',\n",
       " 'applicably',\n",
       " 'applicatively',\n",
       " 'applicatorily',\n",
       " 'appliedly',\n",
       " 'apply',\n",
       " 'applyingly',\n",
       " 'appositely',\n",
       " 'appositionally',\n",
       " 'appositively',\n",
       " 'appraisingly',\n",
       " 'appreciably',\n",
       " 'appreciatingly',\n",
       " 'appreciatively',\n",
       " 'appreciatorily',\n",
       " 'apprehendingly',\n",
       " 'apprehensibly',\n",
       " 'apprehensively',\n",
       " 'appropriately',\n",
       " 'approvedly',\n",
       " 'approvingly',\n",
       " 'approximately',\n",
       " 'approximatively',\n",
       " 'appulsively',\n",
       " 'apsidally',\n",
       " 'aptitudinally',\n",
       " 'aptly',\n",
       " 'aquatically',\n",
       " 'aqueously',\n",
       " 'arabesquely',\n",
       " 'arbitrarily',\n",
       " 'arboreally',\n",
       " 'arborescently',\n",
       " 'Arcadianly',\n",
       " 'archaeologically',\n",
       " 'archaically',\n",
       " 'archetypally',\n",
       " 'archetypically',\n",
       " 'archiepiscopally',\n",
       " 'architectonically',\n",
       " 'architecturally',\n",
       " 'archly',\n",
       " 'arctically',\n",
       " 'arcuately',\n",
       " 'ardently',\n",
       " 'arduously',\n",
       " 'areographically',\n",
       " 'areologically',\n",
       " 'argentometrically',\n",
       " 'argumentatively',\n",
       " 'argutely',\n",
       " 'aridly',\n",
       " 'arightly',\n",
       " 'aristocratically',\n",
       " 'arithmetically',\n",
       " 'aromatically',\n",
       " 'arrantly',\n",
       " 'arrestingly',\n",
       " 'arrhythmically',\n",
       " 'arrogantly',\n",
       " 'arrogatingly',\n",
       " 'arterially',\n",
       " 'artfully',\n",
       " 'articularly',\n",
       " 'articulately',\n",
       " 'artificially',\n",
       " 'artistically',\n",
       " 'artlessly',\n",
       " 'ascendingly',\n",
       " 'ascertainably',\n",
       " 'ascetically',\n",
       " 'aseptically',\n",
       " 'asexually',\n",
       " 'ashamedly',\n",
       " 'ashily',\n",
       " 'Asiatically',\n",
       " 'asininely',\n",
       " 'askingly',\n",
       " 'asperously',\n",
       " 'aspersively',\n",
       " 'aspiringly',\n",
       " 'assembly',\n",
       " 'assentatorily',\n",
       " 'assentingly',\n",
       " 'assertively',\n",
       " 'assertorially',\n",
       " 'assertorically',\n",
       " 'assertorily',\n",
       " 'assessably',\n",
       " 'asseveratingly',\n",
       " 'asseveratively',\n",
       " 'assidually',\n",
       " 'assiduously',\n",
       " 'assignably',\n",
       " 'assishly',\n",
       " 'associatively',\n",
       " 'assumably',\n",
       " 'assumedly',\n",
       " 'assumingly',\n",
       " 'assumptively',\n",
       " 'assuredly',\n",
       " 'assuringly',\n",
       " 'astatically',\n",
       " 'astely',\n",
       " 'asthmatically',\n",
       " 'astigmatically',\n",
       " 'astonishedly',\n",
       " 'astonishingly',\n",
       " 'astoundingly',\n",
       " 'astrally',\n",
       " 'astrictively',\n",
       " 'astringently',\n",
       " 'astrologically',\n",
       " 'astronomically',\n",
       " 'astuciously',\n",
       " 'astutely',\n",
       " 'asymmetrically',\n",
       " 'asymptotically',\n",
       " 'asyndetically',\n",
       " 'atavistically',\n",
       " 'atheistically',\n",
       " 'Athenianly',\n",
       " 'atheologically',\n",
       " 'athletically',\n",
       " 'atmospherically',\n",
       " 'atomically',\n",
       " 'atomistically',\n",
       " 'atonally',\n",
       " 'atoningly',\n",
       " 'atrociously',\n",
       " 'attachedly',\n",
       " 'attemperately',\n",
       " 'attendantly',\n",
       " 'attendingly',\n",
       " 'attentively',\n",
       " 'attently',\n",
       " 'attractingly',\n",
       " 'attractionally',\n",
       " 'attractively',\n",
       " 'attributively',\n",
       " 'attunely',\n",
       " 'atypically',\n",
       " 'audaciously',\n",
       " 'audibly',\n",
       " 'auditorially',\n",
       " 'auditorily',\n",
       " 'augmentatively',\n",
       " 'augmentedly',\n",
       " 'augustly',\n",
       " 'auntly',\n",
       " 'aurally',\n",
       " 'aureately',\n",
       " 'aureously',\n",
       " 'auricularly',\n",
       " 'auriculately',\n",
       " 'aurorally',\n",
       " 'auspiciously',\n",
       " 'austerely',\n",
       " 'auteciously',\n",
       " 'autecologically',\n",
       " 'authentically',\n",
       " 'authenticly',\n",
       " 'authorially',\n",
       " 'authoritatively',\n",
       " 'authorly',\n",
       " 'autobiographically',\n",
       " 'autocatalytically',\n",
       " 'autocephaly',\n",
       " 'autochthonously',\n",
       " 'autocratically',\n",
       " 'autoeciously',\n",
       " 'autoerotically',\n",
       " 'autogenetically',\n",
       " 'autogenously',\n",
       " 'autographically',\n",
       " 'automatically',\n",
       " 'automorphically',\n",
       " 'autonomically',\n",
       " 'autonomously',\n",
       " 'autophytically',\n",
       " 'autoptically',\n",
       " 'autoschediastically',\n",
       " 'autostyly',\n",
       " 'autosymbolically',\n",
       " 'autotropically',\n",
       " 'autumnally',\n",
       " 'auxetically',\n",
       " 'auxiliarly',\n",
       " 'auxinically',\n",
       " 'availably',\n",
       " 'availingly',\n",
       " 'avariciously',\n",
       " 'avengingly',\n",
       " 'averagely',\n",
       " 'aversely',\n",
       " 'avertedly',\n",
       " 'avidiously',\n",
       " 'avidly',\n",
       " 'avoidably',\n",
       " 'avowably',\n",
       " 'avowedly',\n",
       " 'awakeningly',\n",
       " 'awesomely',\n",
       " 'awfully',\n",
       " 'awkwardly',\n",
       " 'axially',\n",
       " 'axiologically',\n",
       " 'axiomatically',\n",
       " 'azimuthally',\n",
       " 'babblingly',\n",
       " 'babblishly',\n",
       " 'babbly',\n",
       " 'babishly',\n",
       " 'babyishly',\n",
       " 'bacchanalianly',\n",
       " 'bachelorly',\n",
       " 'backbitingly',\n",
       " 'backhandedly',\n",
       " 'backwardly',\n",
       " 'bacterially',\n",
       " 'bacteriologically',\n",
       " 'bacterioscopically',\n",
       " 'baddishly',\n",
       " 'badgeringly',\n",
       " 'badgerly',\n",
       " 'badly',\n",
       " 'bafflingly',\n",
       " 'baggily',\n",
       " 'bairnly',\n",
       " 'bakerly',\n",
       " 'bakingly',\n",
       " 'baldly',\n",
       " 'balefully',\n",
       " 'balkingly',\n",
       " 'ballistically',\n",
       " 'bally',\n",
       " 'balmily',\n",
       " 'balsamically',\n",
       " 'banally',\n",
       " 'bandlessly',\n",
       " 'banefully',\n",
       " 'bankruptly',\n",
       " 'banteringly',\n",
       " 'baptismally',\n",
       " 'barbarically',\n",
       " 'barbarously',\n",
       " 'bardily',\n",
       " 'barefacedly',\n",
       " 'barely',\n",
       " 'barfly',\n",
       " 'barkingly',\n",
       " 'barometrically',\n",
       " 'barratrously',\n",
       " 'barrenly',\n",
       " 'barruly',\n",
       " 'basally',\n",
       " 'baselessly',\n",
       " 'basely',\n",
       " 'bashfully',\n",
       " 'basically',\n",
       " 'bastardly',\n",
       " 'bathymetrically',\n",
       " 'bawdily',\n",
       " 'bayardly',\n",
       " 'beadily',\n",
       " 'beamily',\n",
       " 'beamingly',\n",
       " 'bearably',\n",
       " 'bearishly',\n",
       " 'beastily',\n",
       " 'beastlily',\n",
       " 'beastly',\n",
       " 'beatifically',\n",
       " 'beauteously',\n",
       " 'beautifully',\n",
       " 'beckoningly',\n",
       " 'becomingly',\n",
       " 'bedazzlingly',\n",
       " 'beefily',\n",
       " 'beerily',\n",
       " 'beerishly',\n",
       " 'befittingly',\n",
       " 'beggarly',\n",
       " 'beggingly',\n",
       " 'begrudgingly',\n",
       " 'beguilingly',\n",
       " 'behavioristically',\n",
       " 'behoovefully',\n",
       " 'behoovingly',\n",
       " 'beknottedly',\n",
       " 'belatedly',\n",
       " 'believingly',\n",
       " 'bellicosely',\n",
       " 'belligerently',\n",
       " 'belly',\n",
       " 'bely',\n",
       " 'belyingly',\n",
       " 'bemoaningly',\n",
       " 'bemusedly',\n",
       " 'bendingly',\n",
       " 'benedictively',\n",
       " 'beneficently',\n",
       " 'beneficially',\n",
       " 'benevolently',\n",
       " 'benignantly',\n",
       " 'benignly',\n",
       " 'benumbingly',\n",
       " 'beseechingly',\n",
       " 'beseemingly',\n",
       " 'beseemly',\n",
       " 'besiegingly',\n",
       " 'besottedly',\n",
       " 'besottingly',\n",
       " 'bestially',\n",
       " 'besully',\n",
       " 'betterly',\n",
       " 'Beverly',\n",
       " 'bewailingly',\n",
       " 'bewilderedly',\n",
       " 'bewilderingly',\n",
       " 'bewitchingly',\n",
       " 'bewrayingly',\n",
       " 'biannually',\n",
       " 'biaxially',\n",
       " 'Biblically',\n",
       " 'bibliographically',\n",
       " 'bibliophily',\n",
       " 'bibliopolically',\n",
       " 'bibliopoly',\n",
       " 'bibulously',\n",
       " 'biconically',\n",
       " 'biddably',\n",
       " 'bienly',\n",
       " 'biennially',\n",
       " 'bifariously',\n",
       " 'bifidly',\n",
       " 'bifilarly',\n",
       " 'bifurcately',\n",
       " 'bigamously',\n",
       " 'bigotedly',\n",
       " 'bihourly',\n",
       " 'bilaterally',\n",
       " 'bilingually',\n",
       " 'biliously',\n",
       " 'billiardly',\n",
       " 'Billy',\n",
       " 'billy',\n",
       " 'bimanually',\n",
       " 'bimonthly',\n",
       " 'binately',\n",
       " 'bindingly',\n",
       " 'binocularly',\n",
       " 'binomially',\n",
       " 'biochemically',\n",
       " 'bioecologically',\n",
       " 'biogenetically',\n",
       " 'biogeographically',\n",
       " 'biographically',\n",
       " 'biologically',\n",
       " 'biometrically',\n",
       " 'bionomically',\n",
       " 'bipartitely',\n",
       " 'bipinnately',\n",
       " 'biquarterly',\n",
       " 'bisectionally',\n",
       " 'biserially',\n",
       " 'biseriately',\n",
       " 'bisexually',\n",
       " 'bisymmetrically',\n",
       " 'biternately',\n",
       " 'bitingly',\n",
       " 'bitterly',\n",
       " 'biweekly',\n",
       " 'biyearly',\n",
       " 'bizarrely',\n",
       " 'blackbelly',\n",
       " 'blackguardly',\n",
       " 'blackishly',\n",
       " 'blackly',\n",
       " 'blamably',\n",
       " 'blamefully',\n",
       " 'blamelessly',\n",
       " 'blamingly',\n",
       " 'blanchingly',\n",
       " 'blandishingly',\n",
       " 'blandly',\n",
       " 'blankly',\n",
       " 'blasphemously',\n",
       " 'blatantly',\n",
       " 'blately',\n",
       " 'blazingly',\n",
       " 'bleakly',\n",
       " 'bleatingly',\n",
       " 'blenchingly',\n",
       " 'blessedly',\n",
       " 'blessingly',\n",
       " 'blightingly',\n",
       " 'blindedly',\n",
       " 'blindfoldly',\n",
       " 'blindingly',\n",
       " 'blindly',\n",
       " 'blinkingly',\n",
       " 'blissfully',\n",
       " 'blisteringly',\n",
       " 'blithefully',\n",
       " 'blithely',\n",
       " 'blithesomely',\n",
       " 'blizzardly',\n",
       " 'blockheadedly',\n",
       " 'blockishly',\n",
       " 'blolly',\n",
       " 'bloodily',\n",
       " 'bloodlessly',\n",
       " 'bloodthirstily',\n",
       " 'bloomingly',\n",
       " 'blottesquely',\n",
       " 'blottingly',\n",
       " 'blowfly',\n",
       " 'blubberingly',\n",
       " 'bluely',\n",
       " 'bluffly',\n",
       " 'blunderingly',\n",
       " 'bluntly',\n",
       " 'blushfully',\n",
       " 'blushingly',\n",
       " 'blusteringly',\n",
       " 'blusterously',\n",
       " 'boardly',\n",
       " 'boarishly',\n",
       " 'boastfully',\n",
       " 'boatly',\n",
       " 'bobbishly',\n",
       " 'bobfly',\n",
       " 'bodaciously',\n",
       " 'bodily',\n",
       " 'bodingly',\n",
       " 'boilingly',\n",
       " 'boily',\n",
       " 'boisterously',\n",
       " 'boldly',\n",
       " 'bolly',\n",
       " 'bolographically',\n",
       " 'Bolshevistically',\n",
       " 'bombastically',\n",
       " 'bonairly',\n",
       " 'bonally',\n",
       " 'bonelessly',\n",
       " 'bonnily',\n",
       " 'boobily',\n",
       " 'bookishly',\n",
       " 'booly',\n",
       " 'boomingly',\n",
       " 'boorishly',\n",
       " 'bootlessly',\n",
       " 'boozily',\n",
       " 'boringly',\n",
       " 'botanically',\n",
       " 'botchedly',\n",
       " 'botcherly',\n",
       " 'botchily',\n",
       " 'botfly',\n",
       " 'botryoidally',\n",
       " 'bottomlessly',\n",
       " 'bounceably',\n",
       " 'bouncingly',\n",
       " 'boundedly',\n",
       " 'boundingly',\n",
       " 'boundlessly',\n",
       " 'boundly',\n",
       " 'bounteously',\n",
       " 'bountifully',\n",
       " 'bovinely',\n",
       " 'bowingly',\n",
       " 'bowly',\n",
       " 'boyishly',\n",
       " 'brabblingly',\n",
       " 'brachistocephaly',\n",
       " 'brachycephaly',\n",
       " 'brachydactyly',\n",
       " 'bracingly',\n",
       " 'braggartly',\n",
       " 'braggingly',\n",
       " 'braggishly',\n",
       " 'brainlessly',\n",
       " 'brainsickly',\n",
       " 'brambly',\n",
       " 'brassily',\n",
       " 'bravely',\n",
       " 'brawlingly',\n",
       " 'brawly',\n",
       " 'brawnily',\n",
       " 'brazenfacedly',\n",
       " 'brazenly',\n",
       " 'breakably',\n",
       " 'breathingly',\n",
       " 'breathlessly',\n",
       " 'breezily',\n",
       " 'bremely',\n",
       " 'brickly',\n",
       " 'bridally',\n",
       " 'bridely',\n",
       " 'brieflessly',\n",
       " 'briefly',\n",
       " 'brigandishly',\n",
       " 'brightly',\n",
       " 'brilliantly',\n",
       " 'brimfully',\n",
       " 'brimmingly',\n",
       " 'briskly',\n",
       " 'bristly',\n",
       " 'Britannically',\n",
       " 'Britishly',\n",
       " 'brittlely',\n",
       " 'broadly',\n",
       " 'broilingly',\n",
       " 'brokenheartedly',\n",
       " 'brokenly',\n",
       " 'brolly',\n",
       " 'bromidically',\n",
       " 'bromometrically',\n",
       " 'bronchially',\n",
       " 'broodingly',\n",
       " 'brotherly',\n",
       " 'brownly',\n",
       " 'brusquely',\n",
       " 'brutally',\n",
       " 'brutely',\n",
       " 'brutishly',\n",
       " 'bubblingly',\n",
       " 'bubbly',\n",
       " 'buccally',\n",
       " 'buckishly',\n",
       " 'bucolically',\n",
       " 'buirdly',\n",
       " 'bulkily',\n",
       " 'bullheadedly',\n",
       " 'bullishly',\n",
       " 'bully',\n",
       " 'bumpily',\n",
       " 'bumpingly',\n",
       " 'bumpkinly',\n",
       " 'bumptiously',\n",
       " 'bunchily',\n",
       " 'bungerly',\n",
       " 'bunglingly',\n",
       " 'buoyantly',\n",
       " 'burbly',\n",
       " 'burdensomely',\n",
       " 'bureaucratically',\n",
       " 'burglariously',\n",
       " 'burlesquely',\n",
       " 'burlily',\n",
       " 'burly',\n",
       " 'burningly',\n",
       " 'bushily',\n",
       " 'busily',\n",
       " 'bustlingly',\n",
       " 'butcherly',\n",
       " 'butterfly',\n",
       " 'butyrically',\n",
       " 'buxomly',\n",
       " 'buzzardly',\n",
       " 'buzzingly',\n",
       " 'byously',\n",
       " 'Byronically',\n",
       " 'cabalistically',\n",
       " 'cacophonically',\n",
       " 'cacophonously',\n",
       " ...]"
      ]
     },
     "execution_count": 74,
     "metadata": {},
     "output_type": "execute_result"
    }
   ],
   "source": [
    "last_letters['ly']\n",
    "# ['abactinally', 'abandonedly', 'abasedly', 'abashedly', 'abashlessly', 'abbreviately',\n",
    "# 'abdominally', 'abhorrently', 'abidingly', 'abiogenetically', 'abiologically', ...]"
   ]
  },
  {
   "cell_type": "code",
   "execution_count": 75,
   "metadata": {
    "collapsed": true
   },
   "outputs": [
    {
     "data": {
      "text/plain": [
       "['blazy',\n",
       " 'bleezy',\n",
       " 'blowzy',\n",
       " 'boozy',\n",
       " 'breezy',\n",
       " 'bronzy',\n",
       " 'buzzy',\n",
       " 'Chazy',\n",
       " 'cozy',\n",
       " 'crazy',\n",
       " 'dazy',\n",
       " 'dizzy',\n",
       " 'dozy',\n",
       " 'enfrenzy',\n",
       " 'fezzy',\n",
       " 'fizzy',\n",
       " 'floozy',\n",
       " 'fozy',\n",
       " 'franzy',\n",
       " 'frenzy',\n",
       " 'friezy',\n",
       " 'frizzy',\n",
       " 'frowzy',\n",
       " 'furzy',\n",
       " 'fuzzy',\n",
       " 'gauzy',\n",
       " 'gazy',\n",
       " 'glazy',\n",
       " 'groszy',\n",
       " 'hazy',\n",
       " 'heezy',\n",
       " 'Izzy',\n",
       " 'jazzy',\n",
       " 'Jozy',\n",
       " 'lawzy',\n",
       " 'lazy',\n",
       " 'mazy',\n",
       " 'mizzy',\n",
       " 'muzzy',\n",
       " 'nizy',\n",
       " 'oozy',\n",
       " 'quartzy',\n",
       " 'quizzy',\n",
       " 'refrenzy',\n",
       " 'ritzy',\n",
       " 'Shortzy',\n",
       " 'sizy',\n",
       " 'sleazy',\n",
       " 'sneezy',\n",
       " 'snoozy',\n",
       " 'squeezy',\n",
       " 'Suzy',\n",
       " 'tanzy',\n",
       " 'tizzy',\n",
       " 'topazy',\n",
       " 'trotcozy',\n",
       " 'twazzy',\n",
       " 'unbreezy',\n",
       " 'unfrizzy',\n",
       " 'wheezy',\n",
       " 'woozy',\n",
       " 'wuzzy',\n",
       " 'yezzy']"
      ]
     },
     "execution_count": 75,
     "metadata": {},
     "output_type": "execute_result"
    }
   ],
   "source": [
    "last_letters['zy']\n",
    "# ['blazy', 'bleezy', 'blowzy', 'boozy', 'breezy', 'bronzy', 'buzzy', 'Chazy', ...]"
   ]
  },
  {
   "cell_type": "code",
   "execution_count": 76,
   "metadata": {},
   "outputs": [],
   "source": [
    "anagrams = defaultdict(list)"
   ]
  },
  {
   "cell_type": "code",
   "execution_count": 77,
   "metadata": {},
   "outputs": [],
   "source": [
    "for word in words:\n",
    "    key = ''.join(sorted(word))\n",
    "    anagrams[key].append(word)"
   ]
  },
  {
   "cell_type": "code",
   "execution_count": 78,
   "metadata": {},
   "outputs": [
    {
     "data": {
      "text/plain": [
       "['entrail', 'latrine', 'ratline', 'reliant', 'retinal', 'trenail']"
      ]
     },
     "execution_count": 78,
     "metadata": {},
     "output_type": "execute_result"
    }
   ],
   "source": [
    "anagrams['aeilnrt']\n",
    "# ['entrail', 'latrine', 'ratline', 'reliant', 'retinal', 'trenail']"
   ]
  },
  {
   "cell_type": "code",
   "execution_count": 79,
   "metadata": {},
   "outputs": [],
   "source": [
    "anagrams = nltk.Index((''.join(sorted(w)), w) for w in words)"
   ]
  },
  {
   "cell_type": "code",
   "execution_count": 80,
   "metadata": {},
   "outputs": [
    {
     "data": {
      "text/plain": [
       "['entrail', 'latrine', 'ratline', 'reliant', 'retinal', 'trenail']"
      ]
     },
     "execution_count": 80,
     "metadata": {},
     "output_type": "execute_result"
    }
   ],
   "source": [
    "anagrams['aeilnrt']\n",
    "# ['entrail', 'latrine', 'ratline', 'reliant', 'retinal', 'trenail']"
   ]
  },
  {
   "cell_type": "raw",
   "metadata": {},
   "source": [
    "5.3.6 Complex Keys and Values"
   ]
  },
  {
   "cell_type": "code",
   "execution_count": 81,
   "metadata": {},
   "outputs": [],
   "source": [
    "pos = defaultdict(lambda: defaultdict(int))"
   ]
  },
  {
   "cell_type": "code",
   "execution_count": 82,
   "metadata": {},
   "outputs": [],
   "source": [
    "brown_news_tagged = brown.tagged_words(categories='news', tagset='universal')"
   ]
  },
  {
   "cell_type": "code",
   "execution_count": 83,
   "metadata": {},
   "outputs": [],
   "source": [
    "for ((w1, t1), (w2, t2)) in nltk.bigrams(brown_news_tagged):\n",
    "    pos[(t1, w2)][t2] += 1"
   ]
  },
  {
   "cell_type": "code",
   "execution_count": 84,
   "metadata": {},
   "outputs": [
    {
     "data": {
      "text/plain": [
       "defaultdict(int, {'ADJ': 11, 'NOUN': 5})"
      ]
     },
     "execution_count": 84,
     "metadata": {},
     "output_type": "execute_result"
    }
   ],
   "source": [
    "pos[('DET', 'right')]\n",
    "# defaultdict(<class 'int'>, {'ADJ': 11, 'NOUN': 5})"
   ]
  },
  {
   "cell_type": "raw",
   "metadata": {},
   "source": [
    "5.3.7 Inverting a Dictionary"
   ]
  },
  {
   "cell_type": "code",
   "execution_count": 85,
   "metadata": {},
   "outputs": [],
   "source": [
    "counts = defaultdict(int)"
   ]
  },
  {
   "cell_type": "code",
   "execution_count": 86,
   "metadata": {},
   "outputs": [],
   "source": [
    "for word in nltk.corpus.gutenberg.words('milton-paradise.txt'):\n",
    "    counts[word] += 1"
   ]
  },
  {
   "cell_type": "code",
   "execution_count": 87,
   "metadata": {},
   "outputs": [
    {
     "data": {
      "text/plain": [
       "['mortal',\n",
       " 'Against',\n",
       " 'Him',\n",
       " 'There',\n",
       " 'brought',\n",
       " 'King',\n",
       " 'virtue',\n",
       " 'every',\n",
       " 'been',\n",
       " 'thine']"
      ]
     },
     "execution_count": 87,
     "metadata": {},
     "output_type": "execute_result"
    }
   ],
   "source": [
    "[key for (key, value) in counts.items() if value == 32]\n",
    "# ['brought', 'Him', 'virtue', 'Against', 'There', 'thine', 'King', 'mortal',\n",
    "# 'every', 'been']"
   ]
  },
  {
   "cell_type": "code",
   "execution_count": 88,
   "metadata": {},
   "outputs": [],
   "source": [
    "pos = {'colorless': 'ADJ', 'ideas': 'N', 'sleep': 'V', 'furiously': 'ADV'}"
   ]
  },
  {
   "cell_type": "code",
   "execution_count": 89,
   "metadata": {},
   "outputs": [],
   "source": [
    "pos2 = dict((value, key) for (key, value) in pos.items())"
   ]
  },
  {
   "cell_type": "code",
   "execution_count": 90,
   "metadata": {},
   "outputs": [
    {
     "data": {
      "text/plain": [
       "'ideas'"
      ]
     },
     "execution_count": 90,
     "metadata": {},
     "output_type": "execute_result"
    }
   ],
   "source": [
    "pos2['N']\n",
    "# 'ideas'"
   ]
  },
  {
   "cell_type": "code",
   "execution_count": 91,
   "metadata": {},
   "outputs": [],
   "source": [
    "pos.update({'cats': 'N', 'scratch': 'V', 'peacefully': 'ADV', 'old': 'ADJ'})"
   ]
  },
  {
   "cell_type": "code",
   "execution_count": 92,
   "metadata": {},
   "outputs": [],
   "source": [
    "pos2 = defaultdict(list)"
   ]
  },
  {
   "cell_type": "code",
   "execution_count": 93,
   "metadata": {},
   "outputs": [],
   "source": [
    "for key, value in pos.items():\n",
    "    pos2[value].append(key)"
   ]
  },
  {
   "cell_type": "code",
   "execution_count": 94,
   "metadata": {},
   "outputs": [
    {
     "data": {
      "text/plain": [
       "['furiously', 'peacefully']"
      ]
     },
     "execution_count": 94,
     "metadata": {},
     "output_type": "execute_result"
    }
   ],
   "source": [
    "pos2['ADV']\n",
    "# ['peacefully', 'furiously']"
   ]
  },
  {
   "cell_type": "code",
   "execution_count": 95,
   "metadata": {},
   "outputs": [],
   "source": [
    "pos2 = nltk.Index((value, key) for (key, value) in pos.items())"
   ]
  },
  {
   "cell_type": "code",
   "execution_count": 96,
   "metadata": {},
   "outputs": [
    {
     "data": {
      "text/plain": [
       "['furiously', 'peacefully']"
      ]
     },
     "execution_count": 96,
     "metadata": {},
     "output_type": "execute_result"
    }
   ],
   "source": [
    "pos2['ADV']\n",
    "# ['peacefully', 'furiously']"
   ]
  },
  {
   "cell_type": "code",
   "execution_count": null,
   "metadata": {},
   "outputs": [],
   "source": []
  }
 ],
 "metadata": {
  "kernelspec": {
   "display_name": "Python 3",
   "language": "python",
   "name": "python3"
  },
  "language_info": {
   "codemirror_mode": {
    "name": "ipython",
    "version": 3
   },
   "file_extension": ".py",
   "mimetype": "text/x-python",
   "name": "python",
   "nbconvert_exporter": "python",
   "pygments_lexer": "ipython3",
   "version": "3.6.3"
  }
 },
 "nbformat": 4,
 "nbformat_minor": 2
}
