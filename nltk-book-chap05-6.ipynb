{
 "cells": [
  {
   "cell_type": "raw",
   "metadata": {},
   "source": [
    "Natural Language Processing with Python – Analyzing Text with the Natural Language Toolkit\n",
    "Steven Bird, Ewan Klein, and Edward Loper\n",
    "http://www.nltk.org/book/\n",
    "Chapter 5."
   ]
  },
  {
   "cell_type": "code",
   "execution_count": 1,
   "metadata": {},
   "outputs": [],
   "source": [
    "%matplotlib inline"
   ]
  },
  {
   "cell_type": "code",
   "execution_count": 2,
   "metadata": {},
   "outputs": [],
   "source": [
    "import nltk"
   ]
  },
  {
   "cell_type": "code",
   "execution_count": null,
   "metadata": {},
   "outputs": [],
   "source": [
    "5. Categorizing and Tagging Words"
   ]
  },
  {
   "cell_type": "raw",
   "metadata": {},
   "source": [
    "5.6 Transformation-Based Tagging"
   ]
  },
  {
   "cell_type": "code",
   "execution_count": 3,
   "metadata": {},
   "outputs": [
    {
     "ename": "AttributeError",
     "evalue": "module 'nltk.tag.brill' has no attribute 'demo'",
     "output_type": "error",
     "traceback": [
      "\u001b[0;31m---------------------------------------------------------------------------\u001b[0m",
      "\u001b[0;31mAttributeError\u001b[0m                            Traceback (most recent call last)",
      "\u001b[0;32m<ipython-input-3-703db77633f5>\u001b[0m in \u001b[0;36m<module>\u001b[0;34m()\u001b[0m\n\u001b[0;32m----> 1\u001b[0;31m \u001b[0mnltk\u001b[0m\u001b[0;34m.\u001b[0m\u001b[0mtag\u001b[0m\u001b[0;34m.\u001b[0m\u001b[0mbrill\u001b[0m\u001b[0;34m.\u001b[0m\u001b[0mdemo\u001b[0m\u001b[0;34m(\u001b[0m\u001b[0;34m)\u001b[0m\u001b[0;34m\u001b[0m\u001b[0m\n\u001b[0m\u001b[1;32m      2\u001b[0m \u001b[0;31m# Training Brill tagger on 80 sentences...\u001b[0m\u001b[0;34m\u001b[0m\u001b[0;34m\u001b[0m\u001b[0m\n\u001b[1;32m      3\u001b[0m \u001b[0;31m# Finding initial useful rules...\u001b[0m\u001b[0;34m\u001b[0m\u001b[0;34m\u001b[0m\u001b[0m\n\u001b[1;32m      4\u001b[0m \u001b[0;31m#     Found 6555 useful rules.\u001b[0m\u001b[0;34m\u001b[0m\u001b[0;34m\u001b[0m\u001b[0m\n\u001b[1;32m      5\u001b[0m \u001b[0;31m#\u001b[0m\u001b[0;34m\u001b[0m\u001b[0;34m\u001b[0m\u001b[0m\n",
      "\u001b[0;31mAttributeError\u001b[0m: module 'nltk.tag.brill' has no attribute 'demo'"
     ]
    }
   ],
   "source": [
    "nltk.tag.brill.demo()\n",
    "# Training Brill tagger on 80 sentences...\n",
    "# Finding initial useful rules...\n",
    "#     Found 6555 useful rules.\n",
    "#\n",
    "#            B      |\n",
    "#    S   F   r   O  |        Score = Fixed - Broken\n",
    "#    c   i   o   t  |  R     Fixed = num tags changed incorrect -> correct\n",
    "#    o   x   k   h  |  u     Broken = num tags changed correct -> incorrect\n",
    "#    r   e   e   e  |  l     Other = num tags changed incorrect -> incorrect\n",
    "#    e   d   n   r  |  e\n",
    "# ------------------+-------------------------------------------------------\n",
    "#   12  13   1   4  | NN -> VB if the tag of the preceding word is 'TO'\n",
    "#    8   9   1  23  | NN -> VBD if the tag of the following word is 'DT'\n",
    "#    8   8   0   9  | NN -> VBD if the tag of the preceding word is 'NNS'\n",
    "#    6   9   3  16  | NN -> NNP if the tag of words i-2...i-1 is '-NONE-'\n",
    "#    5   8   3   6  | NN -> NNP if the tag of the following word is 'NNP'\n",
    "#    5   6   1   0  | NN -> NNP if the text of words i-2...i-1 is 'like'\n",
    "#    5   5   0   3  | NN -> VBN if the text of the following word is '*-1'\n",
    "#    ..."
   ]
  },
  {
   "cell_type": "code",
   "execution_count": 4,
   "metadata": {},
   "outputs": [],
   "source": [
    "import nltk.tag.brill as ntb"
   ]
  },
  {
   "cell_type": "code",
   "execution_count": 5,
   "metadata": {},
   "outputs": [
    {
     "data": {
      "text/plain": [
       "[Template(Pos([-1])),\n",
       " Template(Pos([1])),\n",
       " Template(Pos([-2])),\n",
       " Template(Pos([2])),\n",
       " Template(Pos([-2, -1])),\n",
       " Template(Pos([1, 2])),\n",
       " Template(Pos([-3, -2, -1])),\n",
       " Template(Pos([1, 2, 3])),\n",
       " Template(Pos([-1]),Pos([1])),\n",
       " Template(Word([-1])),\n",
       " Template(Word([1])),\n",
       " Template(Word([-2])),\n",
       " Template(Word([2])),\n",
       " Template(Word([-2, -1])),\n",
       " Template(Word([1, 2])),\n",
       " Template(Word([-3, -2, -1])),\n",
       " Template(Word([1, 2, 3])),\n",
       " Template(Word([-1]),Word([1]))]"
      ]
     },
     "execution_count": 5,
     "metadata": {},
     "output_type": "execute_result"
    }
   ],
   "source": [
    "ntb.nltkdemo18()"
   ]
  },
  {
   "cell_type": "code",
   "execution_count": 6,
   "metadata": {},
   "outputs": [
    {
     "data": {
      "text/plain": [
       "[Template(Pos([-1])),\n",
       " Template(Pos([1])),\n",
       " Template(Pos([-2])),\n",
       " Template(Pos([2])),\n",
       " Template(Pos([-2, -1])),\n",
       " Template(Pos([1, 2])),\n",
       " Template(Pos([-3, -2, -1])),\n",
       " Template(Pos([1, 2, 3])),\n",
       " Template(Pos([-1]),Pos([1])),\n",
       " Template(Word([-1])),\n",
       " Template(Word([1])),\n",
       " Template(Word([-2])),\n",
       " Template(Word([2])),\n",
       " Template(Word([-2, -1])),\n",
       " Template(Word([1, 2])),\n",
       " Template(Word([-3, -2, -1])),\n",
       " Template(Word([1, 2, 3])),\n",
       " Template(Word([-1]),Word([1])),\n",
       " Template(Word([-1]),Pos([1])),\n",
       " Template(Pos([-1]),Word([1])),\n",
       " Template(Word([-1]),Word([0]),Pos([1])),\n",
       " Template(Pos([-1]),Word([0]),Word([1])),\n",
       " Template(Pos([-1]),Word([0]),Pos([1]))]"
      ]
     },
     "execution_count": 6,
     "metadata": {},
     "output_type": "execute_result"
    }
   ],
   "source": [
    "ntb.nltkdemo18plus()"
   ]
  },
  {
   "cell_type": "code",
   "execution_count": 7,
   "metadata": {},
   "outputs": [
    {
     "ename": "FileNotFoundError",
     "evalue": "[Errno 2] No such file or directory: 'errors.out'",
     "output_type": "error",
     "traceback": [
      "\u001b[0;31m---------------------------------------------------------------------------\u001b[0m",
      "\u001b[0;31mFileNotFoundError\u001b[0m                         Traceback (most recent call last)",
      "\u001b[0;32m<ipython-input-7-7a2e0c190776>\u001b[0m in \u001b[0;36m<module>\u001b[0;34m()\u001b[0m\n\u001b[0;32m----> 1\u001b[0;31m \u001b[0mprint\u001b[0m\u001b[0;34m(\u001b[0m\u001b[0mopen\u001b[0m\u001b[0;34m(\u001b[0m\u001b[0;34m\"errors.out\"\u001b[0m\u001b[0;34m)\u001b[0m\u001b[0;34m.\u001b[0m\u001b[0mread\u001b[0m\u001b[0;34m(\u001b[0m\u001b[0;34m)\u001b[0m\u001b[0;34m)\u001b[0m\u001b[0;34m\u001b[0m\u001b[0m\n\u001b[0m\u001b[1;32m      2\u001b[0m \u001b[0;31m#              left context |    word/test->gold     | right context\u001b[0m\u001b[0;34m\u001b[0m\u001b[0;34m\u001b[0m\u001b[0m\n\u001b[1;32m      3\u001b[0m \u001b[0;31m# --------------------------+------------------------+--------------------------\u001b[0m\u001b[0;34m\u001b[0m\u001b[0;34m\u001b[0m\u001b[0m\n\u001b[1;32m      4\u001b[0m \u001b[0;31m#                           |      Then/NN->RB       | ,/, in/IN the/DT guests/N\u001b[0m\u001b[0;34m\u001b[0m\u001b[0;34m\u001b[0m\u001b[0m\n\u001b[1;32m      5\u001b[0m \u001b[0;31m# , in/IN the/DT guests/NNS |       '/VBD->POS       | honor/NN ,/, the/DT speed\u001b[0m\u001b[0;34m\u001b[0m\u001b[0;34m\u001b[0m\u001b[0m\n",
      "\u001b[0;31mFileNotFoundError\u001b[0m: [Errno 2] No such file or directory: 'errors.out'"
     ]
    }
   ],
   "source": [
    "print(open(\"errors.out\").read())\n",
    "#              left context |    word/test->gold     | right context\n",
    "# --------------------------+------------------------+--------------------------\n",
    "#                           |      Then/NN->RB       | ,/, in/IN the/DT guests/N\n",
    "# , in/IN the/DT guests/NNS |       '/VBD->POS       | honor/NN ,/, the/DT speed\n",
    "# '/POS honor/NN ,/, the/DT |    speedway/JJ->NN     | hauled/VBD out/RP four/CD\n",
    "# NN ,/, the/DT speedway/NN |     hauled/NN->VBD     | out/RP four/CD drivers/NN\n",
    "# DT speedway/NN hauled/VBD |      out/NNP->RP       | four/CD drivers/NNS ,/, c\n",
    "# dway/NN hauled/VBD out/RP |      four/NNP->CD      | drivers/NNS ,/, crews/NNS\n",
    "# hauled/VBD out/RP four/CD |    drivers/NNP->NNS    | ,/, crews/NNS and/CC even\n",
    "# P four/CD drivers/NNS ,/, |     crews/NN->NNS      | and/CC even/RB the/DT off\n",
    "# NNS and/CC even/RB the/DT |    official/NNP->JJ    | Indianapolis/NNP 500/CD a\n",
    "#                           |     After/VBD->IN      | the/DT race/NN ,/, Fortun\n",
    "# ter/IN the/DT race/NN ,/, |    Fortune/IN->NNP     | 500/CD executives/NNS dro\n",
    "# s/NNS drooled/VBD like/IN |  schoolboys/NNP->NNS   | over/IN the/DT cars/NNS a\n",
    "# olboys/NNS over/IN the/DT |      cars/NN->NNS      | and/CC drivers/NNS ./."
   ]
  },
  {
   "cell_type": "code",
   "execution_count": null,
   "metadata": {},
   "outputs": [],
   "source": []
  }
 ],
 "metadata": {
  "kernelspec": {
   "display_name": "Python 3",
   "language": "python",
   "name": "python3"
  },
  "language_info": {
   "codemirror_mode": {
    "name": "ipython",
    "version": 3
   },
   "file_extension": ".py",
   "mimetype": "text/x-python",
   "name": "python",
   "nbconvert_exporter": "python",
   "pygments_lexer": "ipython3",
   "version": "3.6.3"
  }
 },
 "nbformat": 4,
 "nbformat_minor": 2
}
